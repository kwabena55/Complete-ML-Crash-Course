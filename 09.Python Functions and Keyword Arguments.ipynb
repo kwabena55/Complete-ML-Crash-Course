{
 "metadata": {
  "language_info": {
   "codemirror_mode": {
    "name": "ipython",
    "version": 3
   },
   "file_extension": ".py",
   "mimetype": "text/x-python",
   "name": "python",
   "nbconvert_exporter": "python",
   "pygments_lexer": "ipython3",
   "version": "3.8.3-final"
  },
  "orig_nbformat": 2,
  "kernelspec": {
   "name": "python3",
   "display_name": "Python 3",
   "language": "python"
  }
 },
 "nbformat": 4,
 "nbformat_minor": 2,
 "cells": [
  {
   "source": [
    "Functions in Python\n",
    "* Why Functions\n",
    "* Function Definition\n",
    "* Positional and Keyword Arguments in Functions"
   ],
   "cell_type": "markdown",
   "metadata": {}
  },
  {
   "cell_type": "code",
   "execution_count": 6,
   "metadata": {},
   "outputs": [],
   "source": [
    "def even_inicator(a):\n",
    "    if a%2==0:\n",
    "        print(\"even\")\n",
    "    else:\n",
    "        print(\"odd\")"
   ]
  },
  {
   "cell_type": "code",
   "execution_count": 7,
   "metadata": {},
   "outputs": [
    {
     "output_type": "stream",
     "name": "stdout",
     "text": [
      "even\n"
     ]
    }
   ],
   "source": [
    "even_inicator(20)"
   ]
  },
  {
   "cell_type": "code",
   "execution_count": 8,
   "metadata": {},
   "outputs": [],
   "source": [
    "def hello(name,age=20):\n",
    "    print( f\"my name is {name} and i am {age} \")"
   ]
  },
  {
   "cell_type": "code",
   "execution_count": 10,
   "metadata": {},
   "outputs": [
    {
     "output_type": "stream",
     "name": "stdout",
     "text": [
      "my name is solomon and i am 20 \n"
     ]
    }
   ],
   "source": [
    "hello('solomon')"
   ]
  },
  {
   "source": [
    "Keyword and Arguments"
   ],
   "cell_type": "markdown",
   "metadata": {}
  },
  {
   "cell_type": "code",
   "execution_count": 11,
   "metadata": {},
   "outputs": [],
   "source": [
    "def hell(*args,**kwargs):\n",
    "    print(args)\n",
    "    print(kwargs)"
   ]
  },
  {
   "cell_type": "code",
   "execution_count": 12,
   "metadata": {},
   "outputs": [
    {
     "output_type": "stream",
     "name": "stdout",
     "text": [
      "('solomon', 'kofi', 'Serwaa')\n{}\n"
     ]
    }
   ],
   "source": [
    "hell(\"solomon\",\"kofi\",\"Serwaa\")"
   ]
  },
  {
   "cell_type": "code",
   "execution_count": 13,
   "metadata": {},
   "outputs": [
    {
     "output_type": "stream",
     "name": "stdout",
     "text": [
      "('Bryan', 'Jayden', 'mike')\n{'age': 27, 'car': 'benz'}\n"
     ]
    }
   ],
   "source": [
    "hell(\"Bryan\",\"Jayden\",\"mike\", age=27, car=\"benz\")"
   ]
  },
  {
   "cell_type": "code",
   "execution_count": 14,
   "metadata": {},
   "outputs": [],
   "source": [
    "lst=[\"a\",\"b\",\"c\",\"d\",\"e\",\"f\"]\n",
    "dict_args={\"solomon\":33,\"name\":\"mike\",\"dob\":29}"
   ]
  },
  {
   "cell_type": "code",
   "execution_count": 15,
   "metadata": {},
   "outputs": [
    {
     "output_type": "stream",
     "name": "stdout",
     "text": [
      "(['a', 'b', 'c', 'd', 'e', 'f'], {'solomon': 33, 'name': 'mike', 'dob': 29})\n{}\n"
     ]
    }
   ],
   "source": [
    "hell(lst,dict_args)"
   ]
  },
  {
   "cell_type": "code",
   "execution_count": 17,
   "metadata": {},
   "outputs": [
    {
     "output_type": "stream",
     "name": "stdout",
     "text": [
      "(1, 2, 3, 4, 5)\n{'ama': 29, 'name': 30}\n"
     ]
    }
   ],
   "source": [
    "hell(1,2,3,4,5,ama=29,name=30)"
   ]
  },
  {
   "cell_type": "code",
   "execution_count": null,
   "metadata": {},
   "outputs": [],
   "source": []
  }
 ]
}