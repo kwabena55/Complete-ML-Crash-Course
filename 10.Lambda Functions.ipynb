{
    "metadata": {
        "kernelspec": {
            "name": "python3",
            "display_name": "Python 3",
            "language": "python"
        },
        "language_info": {
            "codemirror_mode": {
                "name": "ipython",
                "version": 3
            },
            "file_extension": ".py",
            "mimetype": "text/x-python",
            "name": "python",
            "nbconvert_exporter": "python",
            "pygments_lexer": "ipython3",
            "version": "3.8.3-final"
        },
        "orig_nbformat": 2
    },
    "nbformat_minor": 2,
    "nbformat": 4,
    "cells": [
        {
            "cell_type": "markdown",
            "source": [
                "Lambda Functions\n",
                "* Also called Anonymous functions"
            ],
            "metadata": {
                "azdata_cell_guid": "932a208d-977b-4579-a181-315c058e606f"
            }
        },
        {
            "cell_type": "code",
            "source": [
                "def addition(a,b,c):\n",
                "    return a+b+c"
            ],
            "metadata": {
                "azdata_cell_guid": "81d78d51-fce7-4d60-bd20-cf1ddef39220"
            },
            "outputs": [],
            "execution_count": 2
        },
        {
            "cell_type": "code",
            "source": [
                "addition(1,2)"
            ],
            "metadata": {
                "azdata_cell_guid": "a1cb45a2-357b-4413-a03b-bcd47505b8aa"
            },
            "outputs": [
                {
                    "output_type": "execute_result",
                    "execution_count": 3,
                    "data": {
                        "text/plain": "3"
                    },
                    "metadata": {}
                }
            ],
            "execution_count": 3
        },
        {
            "cell_type": "code",
            "source": [
                "#Using lambda function\n",
                "lambda a,b : a*b"
            ],
            "metadata": {
                "azdata_cell_guid": "bf144398-040b-4929-ad6d-a850168ba9e4"
            },
            "outputs": [
                {
                    "output_type": "execute_result",
                    "execution_count": 4,
                    "data": {
                        "text/plain": "<function __main__.<lambda>(a, b)>"
                    },
                    "metadata": {}
                }
            ],
            "execution_count": 4
        },
        {
            "cell_type": "code",
            "source": [
                "additon_lam=lambda a,b:a*b"
            ],
            "metadata": {
                "azdata_cell_guid": "09e704ca-4d5a-469c-9236-fce9c1606be6"
            },
            "outputs": [],
            "execution_count": 9
        },
        {
            "cell_type": "code",
            "source": [
                "additon_lam(23,34)"
            ],
            "metadata": {
                "azdata_cell_guid": "5c1e7cdc-0a93-41be-8fd7-2c99bb546c30"
            },
            "outputs": [
                {
                    "output_type": "execute_result",
                    "execution_count": 10,
                    "data": {
                        "text/plain": "782"
                    },
                    "metadata": {}
                }
            ],
            "execution_count": 10
        },
        {
            "cell_type": "code",
            "source": [
                "def even(num):\n",
                "    if num%2==0:\n",
                "        return True"
            ],
            "metadata": {
                "azdata_cell_guid": "74c43c9c-0140-4b8d-b5ff-ee9530f52939"
            },
            "outputs": [],
            "execution_count": 11
        },
        {
            "cell_type": "code",
            "source": [
                "even(0)"
            ],
            "metadata": {
                "azdata_cell_guid": "8b1ce230-5d72-4e30-a28e-f34d9686d2c9"
            },
            "outputs": [
                {
                    "output_type": "execute_result",
                    "execution_count": 12,
                    "data": {
                        "text/plain": "True"
                    },
                    "metadata": {}
                }
            ],
            "execution_count": 12
        },
        {
            "cell_type": "code",
            "source": [
                "even(12)"
            ],
            "metadata": {
                "azdata_cell_guid": "179a3724-4240-447a-a84d-abca22b2ee9f"
            },
            "outputs": [
                {
                    "output_type": "execute_result",
                    "execution_count": 14,
                    "data": {
                        "text/plain": "True"
                    },
                    "metadata": {}
                }
            ],
            "execution_count": 14
        },
        {
            "cell_type": "code",
            "source": [
                "# For Lambda\n",
                "eve= lambda num: num%2==0"
            ],
            "metadata": {
                "azdata_cell_guid": "5d08dc67-2b45-4bff-96de-55f4a9742efe"
            },
            "outputs": [],
            "execution_count": 15
        },
        {
            "cell_type": "code",
            "source": [
                "eve(20)"
            ],
            "metadata": {
                "azdata_cell_guid": "58c1aa67-9f64-4e5b-800e-9f17f25713d4"
            },
            "outputs": [
                {
                    "output_type": "execute_result",
                    "execution_count": 16,
                    "data": {
                        "text/plain": "True"
                    },
                    "metadata": {}
                }
            ],
            "execution_count": 16
        },
        {
            "cell_type": "code",
            "source": [
                "def additon (x,y,z):\n",
                "    return x*y*z"
            ],
            "metadata": {
                "azdata_cell_guid": "c007e7bc-e291-4159-9de7-57159e48efde"
            },
            "outputs": [],
            "execution_count": 18
        },
        {
            "cell_type": "code",
            "source": [
                "additon(2,4,5)"
            ],
            "metadata": {
                "azdata_cell_guid": "26149458-eabc-47a6-9050-a171e9d7d6c6"
            },
            "outputs": [
                {
                    "output_type": "execute_result",
                    "execution_count": 19,
                    "data": {
                        "text/plain": "40"
                    },
                    "metadata": {}
                }
            ],
            "execution_count": 19
        },
        {
            "cell_type": "code",
            "source": [
                "addi=lambda x,y,z: x*y/2"
            ],
            "metadata": {
                "azdata_cell_guid": "34c21e15-fa50-4378-9b08-1d2782c3d396"
            },
            "outputs": [],
            "execution_count": 2
        },
        {
            "cell_type": "code",
            "source": [
                "addi(2,3,45)"
            ],
            "metadata": {
                "azdata_cell_guid": "68e2e287-ad07-41d7-b447-fe0590236f6a"
            },
            "outputs": [
                {
                    "output_type": "execute_result",
                    "data": {
                        "text/plain": [
                            "3.0"
                        ]
                    },
                    "metadata": {},
                    "execution_count": 3
                }
            ],
            "execution_count": 3
        },
        {
            "cell_type": "code",
            "source": [],
            "metadata": {
                "azdata_cell_guid": "948cc0d2-a714-4455-95a9-c22c8a3e902c"
            },
            "outputs": [],
            "execution_count": null
        },
        {
            "cell_type": "code",
            "execution_count": null,
            "metadata": {},
            "outputs": [],
            "source": []
        }
    ]
}